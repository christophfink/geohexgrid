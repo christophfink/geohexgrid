{
 "cells": [
  {
   "cell_type": "code",
   "execution_count": null,
   "id": "17592634",
   "metadata": {},
   "outputs": [],
   "source": [
    "import sys\n",
    "import pathlib as pl\n",
    "import math\n",
    "\n",
    "import geopandas as gpd\n",
    "import shapely.geometry as sg\n",
    "\n",
    "sys.path.append(\"../\")\n",
    "\n",
    "import geohexgrid as ghg\n",
    "\n",
    "\n",
    "%load_ext autoreload\n",
    "%autoreload 2\n",
    "\n",
    "DATA_DIR = pl.Path(\"../tests/data\")\n",
    "NZTM = \"epsg:2193\"  # New Zealand Transverse Mercator CRS\n",
    "WGS84 = \"epsg:4326\""
   ]
  },
  {
   "cell_type": "code",
   "execution_count": null,
   "id": "81540459",
   "metadata": {},
   "outputs": [],
   "source": [
    "ghs = ghg.GeoHexSystem(NZTM, 50, 0, 0)\n",
    "ghs"
   ]
  },
  {
   "cell_type": "code",
   "execution_count": null,
   "id": "953d28a5",
   "metadata": {},
   "outputs": [],
   "source": [
    "R = ghs.R\n",
    "cells = ghs.grid_from_bbox(-0.1 * R, -0.1 * R, 0.1 * R, R, as_gdf=True)\n",
    "\n",
    "display(cells)\n",
    "cells.plot(color=\"white\", edgecolor=\"blue\")"
   ]
  },
  {
   "cell_type": "code",
   "execution_count": null,
   "id": "129803f4",
   "metadata": {},
   "outputs": [],
   "source": [
    "shapes = gpd.read_file(DATA_DIR / \"shapes.geojson\").to_crs(NZTM)\n",
    "base = shapes.plot(color='red', figsize=(20, 20), aspect=\"equal\")\n",
    "ghs = ghg.GeoHexSystem(NZTM, 250, 0, 0)\n",
    "\n",
    "# Grid 1 in black\n",
    "grid1 = ghs.grid_from_gdf(shapes)\n",
    "grid1.plot(ax=base, color='white', edgecolor=\"black\", alpha=0.1)\n",
    "\n",
    "# Grid 2 (intersected with shapes) in blue\n",
    "grid2 = ghs.grid_from_gdf(shapes, intersect=True)\n",
    "grid2.plot(ax=base, color='white', edgecolor=\"blue\", alpha=0.5)\n",
    "\n",
    "# Try again in WGS84 with larger cells\n",
    "shapes = gpd.read_file(DATA_DIR / \"shapes.geojson\")\n",
    "base = shapes.plot(color='red', figsize=(20, 20), aspect=\"equal\")\n",
    "ghs = ghg.GeoHexSystem(WGS84, 0.01, 0, 0)\n",
    "\n",
    "# Grid 1 in black\n",
    "grid1 = ghs.grid_from_gdf(shapes)\n",
    "grid1.plot(ax=base, color='white', edgecolor=\"black\", alpha=0.1)\n",
    "display(grid1)\n",
    "\n",
    "# Grid 2 (intersected with shapes) in blue\n",
    "grid2 = ghs.grid_from_gdf(shapes, intersect=True)\n",
    "grid2.plot(ax=base, color='white', edgecolor=\"blue\", alpha=0.5)\n",
    "\n",
    "# Grid 3 (clipped to shapes) in blue\n",
    "grid3 = ghs.grid_from_gdf(shapes, clip=True)\n",
    "#grid3.plot(ax=base, color='white', edgecolor=\"blue\", alpha=0.5)\n",
    "display(grid3)"
   ]
  },
  {
   "cell_type": "code",
   "execution_count": null,
   "id": "ea36f48a",
   "metadata": {},
   "outputs": [],
   "source": [
    "# Load New Zealand's territorial authorities projected in EPGS 2193 (NZTM)\n",
    "shapes = gpd.read_file(DATA_DIR / \"nz_tas.gpkg\")\n",
    "display(shapes.crs)\n",
    "\n",
    "# Generate a minimal cover of it with hexagons of circumradius 10 kilometres\n",
    "%time grid = ghg.make_grid(shapes, 10_000, intersect=True) \n",
    "\n",
    "base = shapes.plot(color='red', figsize=(20, 20), aspect=\"equal\")\n",
    "grid.plot(ax=base, color='white', edgecolor=\"blue\", alpha=0.5)\n"
   ]
  },
  {
   "cell_type": "code",
   "execution_count": null,
   "id": "2b6ee0c5",
   "metadata": {},
   "outputs": [],
   "source": []
  },
  {
   "cell_type": "code",
   "execution_count": null,
   "id": "06f66a0e-aa13-40b0-9ef2-acacd0edcaba",
   "metadata": {},
   "outputs": [],
   "source": []
  }
 ],
 "metadata": {
  "kernelspec": {
   "display_name": "Python 3 (ipykernel)",
   "language": "python",
   "name": "python3"
  },
  "language_info": {
   "codemirror_mode": {
    "name": "ipython",
    "version": 3
   },
   "file_extension": ".py",
   "mimetype": "text/x-python",
   "name": "python",
   "nbconvert_exporter": "python",
   "pygments_lexer": "ipython3",
   "version": "3.10.12"
  }
 },
 "nbformat": 4,
 "nbformat_minor": 5
}
