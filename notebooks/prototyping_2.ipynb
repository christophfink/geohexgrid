{
 "cells": [
  {
   "cell_type": "code",
   "execution_count": null,
   "id": "17592634",
   "metadata": {},
   "outputs": [],
   "source": [
    "import sys\n",
    "import pathlib as pl\n",
    "import math\n",
    "\n",
    "import geopandas as gpd\n",
    "import shapely.geometry as sg\n",
    "import matplotlib.pyplot as plt\n",
    "\n",
    "sys.path.append(\"../\")\n",
    "\n",
    "import geohexgrid as ghg\n",
    "\n",
    "\n",
    "%load_ext autoreload\n",
    "%autoreload 2\n",
    "\n",
    "DATA_DIR = pl.Path(\"../tests/data\")\n",
    "NZTM = \"epsg:2193\"  # New Zealand Transverse Mercator CRS\n",
    "WGS84 = \"epsg:4326\""
   ]
  },
  {
   "cell_type": "code",
   "execution_count": null,
   "id": "953d28a5",
   "metadata": {},
   "outputs": [],
   "source": [
    "# make_grid_points and make_grid\n",
    "\n",
    "nrows, ncols, R = 3, 5, 1\n",
    "ox, oy = -1, 2\n",
    "X, Y = ghg.make_grid_points(nrows, ncols, R, ox, oy)\n",
    "display(X)\n",
    "display(Y)\n",
    "grid = ghg.make_grid(nrows, ncols, R, ox, oy)\n",
    "display(grid.head())\n",
    "\n",
    "fig, ax = plt.subplots()\n",
    "ax.scatter(X, Y)\n",
    "#plt.gca().set_aspect('equal')\n",
    "grid.plot(ax=ax, color=\"white\", edgecolor=\"blue\", alpha=0.5, aspect=\"equal\")\n"
   ]
  },
  {
   "cell_type": "code",
   "execution_count": null,
   "id": "140e9b52-3ea1-4d9e-be2f-32bfefbdf852",
   "metadata": {},
   "outputs": [],
   "source": [
    "grid = ghg.make_grid(2, 3, R=1, ox=2, oy=1)\n",
    "display(grid)\n",
    "grid[\"cell_id\"].tolist()\n",
    "\n",
    "p = grid.unary_union.boundary\n",
    "display(p, p.is_ring)\n",
    "\n",
    "p1 = grid[\"geometry\"].iat[0].buffer(-0.001)\n",
    "p2 = grid[\"geometry\"].iat[1]\n",
    "q = p1.union(p2).boundary\n",
    "\n",
    "display(q, q.is_ring)\n"
   ]
  },
  {
   "cell_type": "code",
   "execution_count": null,
   "id": "58c45b5c-32e7-42ec-930f-37a5f7c67a0c",
   "metadata": {},
   "outputs": [],
   "source": [
    "# make_grid_from_bounds\n",
    "\n",
    "rect = gpd.GeoDataFrame(geometry=[sg.Polygon([(2.1, -1), (4.9, -1), (4.9, 1.9), (2.1, 1.9)])])\n",
    "R = 1\n",
    "grid = ghg.make_grid_from_bounds(*rect.total_bounds, R=R, ox=0, oy=0)\n",
    "display(grid.head())\n",
    "print(grid[\"cell_id\"].tolist())\n",
    "\n",
    "base = rect.plot(color='gray', aspect=\"equal\")\n",
    "grid.plot(ax=base, color=\"white\", edgecolor=\"red\", alpha=0.5)"
   ]
  },
  {
   "cell_type": "code",
   "execution_count": null,
   "id": "0f22ee6d-2d37-4985-b4ca-f2aa33154112",
   "metadata": {},
   "outputs": [],
   "source": [
    "shape = gpd.GeoDataFrame(geometry=[sg.Polygon([(1, -1), (3, 1), (0, 3)])])\n",
    "grid = ghg.make_grid_from_gdf(shape, R=1, ox=0, oy=0)\n",
    "\n",
    "display(grid.head())\n",
    "print(grid[\"cell_id\"].tolist())\n",
    "\n",
    "base = shape.plot(color='gray', aspect=\"equal\")\n",
    "grid.plot(ax=base, color=\"white\", edgecolor=\"red\", alpha=0.5)"
   ]
  },
  {
   "cell_type": "code",
   "execution_count": null,
   "id": "a6ef824d-55f0-41b1-976d-a82860dad62b",
   "metadata": {},
   "outputs": [],
   "source": [
    "# make_grid_from_gdf\n",
    "\n",
    "shapes = gpd.read_file(DATA_DIR / \"shapes.geojson\").to_crs(NZTM)\n",
    "R = 900\n",
    "grid = ghg.make_grid_from_gdf(shapes, R=R)\n",
    "display(grid.head())\n",
    "\n",
    "base = shapes.plot(color='gray', aspect=\"equal\")\n",
    "grid.plot(ax=base, color=\"white\", edgecolor=\"red\", alpha=0.5)\n"
   ]
  },
  {
   "cell_type": "code",
   "execution_count": null,
   "id": "9fec0882-dea9-444d-834a-8585bd0e8d33",
   "metadata": {},
   "outputs": [],
   "source": [
    "# make_grid_from_gdf\n",
    "\n",
    "shapes = gpd.read_file(DATA_DIR / \"shapes.geojson\").to_crs(NZTM)\n",
    "R = 900\n",
    "grid = ghg.make_grid_from_gdf(shapes, R=R)\n",
    "display(grid.head())\n",
    "\n",
    "base = shapes.plot(color='gray', aspect=\"equal\")\n",
    "grid.plot(ax=base, color=\"white\", edgecolor=\"red\", alpha=0.5)\n"
   ]
  },
  {
   "cell_type": "code",
   "execution_count": null,
   "id": "129803f4",
   "metadata": {},
   "outputs": [],
   "source": [
    "shapes = gpd.read_file(DATA_DIR / \"shapes.geojson\").to_crs(NZTM)\n",
    "base = shapes.plot(color='red', figsize=(20, 20), aspect=\"equal\")\n",
    "ghs = ghg.GeoHexSystem(NZTM, 250, 0, 0)\n",
    "\n",
    "# Grid 1 in black\n",
    "grid1 = ghs.grid_from_gdf(shapes)\n",
    "grid1.plot(ax=base, color='white', edgecolor=\"black\", alpha=0.1)\n",
    "\n",
    "# Grid 2 (intersected with shapes) in blue\n",
    "grid2 = ghs.grid_from_gdf(shapes, intersect=True)\n",
    "grid2.plot(ax=base, color='white', edgecolor=\"blue\", alpha=0.5)\n",
    "\n",
    "# Try again in WGS84 with larger cells\n",
    "shapes = gpd.read_file(DATA_DIR / \"shapes.geojson\")\n",
    "base = shapes.plot(color='red', figsize=(20, 20), aspect=\"equal\")\n",
    "ghs = ghg.GeoHexSystem(WGS84, 0.01, 0, 0)\n",
    "\n",
    "# Grid 1 in black\n",
    "grid1 = ghs.grid_from_gdf(shapes)\n",
    "grid1.plot(ax=base, color='white', edgecolor=\"black\", alpha=0.1)\n",
    "display(grid1)\n",
    "\n",
    "# Grid 2 (intersected with shapes) in blue\n",
    "grid2 = ghs.grid_from_gdf(shapes, intersect=True)\n",
    "grid2.plot(ax=base, color='white', edgecolor=\"blue\", alpha=0.5)\n",
    "\n",
    "# Grid 3 (clipped to shapes) in blue\n",
    "grid3 = ghs.grid_from_gdf(shapes, clip=True)\n",
    "#grid3.plot(ax=base, color='white', edgecolor=\"blue\", alpha=0.5)\n",
    "display(grid3)"
   ]
  },
  {
   "cell_type": "code",
   "execution_count": null,
   "id": "ea36f48a",
   "metadata": {},
   "outputs": [],
   "source": [
    "# Load New Zealand's territorial authorities projected in EPGS 2193 (NZTM)\n",
    "shapes = gpd.read_file(DATA_DIR / \"nz_tas.gpkg\")\n",
    "display(shapes.crs)\n",
    "\n",
    "# Generate a minimal cover of it with hexagons of circumradius 10 kilometres\n",
    "%time grid = ghg.make_grid(shapes, 10_000, intersect=True) \n",
    "\n",
    "base = shapes.plot(color='red', figsize=(20, 20), aspect=\"equal\")\n",
    "grid.plot(ax=base, color='white', edgecolor=\"blue\", alpha=0.5)\n"
   ]
  },
  {
   "cell_type": "code",
   "execution_count": null,
   "id": "2b6ee0c5",
   "metadata": {},
   "outputs": [],
   "source": []
  },
  {
   "cell_type": "code",
   "execution_count": null,
   "id": "06f66a0e-aa13-40b0-9ef2-acacd0edcaba",
   "metadata": {},
   "outputs": [],
   "source": []
  }
 ],
 "metadata": {
  "kernelspec": {
   "display_name": "Python 3 (ipykernel)",
   "language": "python",
   "name": "python3"
  },
  "language_info": {
   "codemirror_mode": {
    "name": "ipython",
    "version": 3
   },
   "file_extension": ".py",
   "mimetype": "text/x-python",
   "name": "python",
   "nbconvert_exporter": "python",
   "pygments_lexer": "ipython3",
   "version": "3.10.12"
  }
 },
 "nbformat": 4,
 "nbformat_minor": 5
}
