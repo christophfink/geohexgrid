{
 "cells": [
  {
   "cell_type": "code",
   "execution_count": null,
   "id": "17592634",
   "metadata": {},
   "outputs": [],
   "source": [
    "import sys\n",
    "import pathlib as pl\n",
    "import math\n",
    "\n",
    "import numpy as np\n",
    "import geopandas as gpd\n",
    "import shapely.geometry as sg\n",
    "import matplotlib.pyplot as plt\n",
    "\n",
    "sys.path.append(\"../\")\n",
    "\n",
    "import geohexgrid as ghg\n",
    "\n",
    "\n",
    "%load_ext autoreload\n",
    "%autoreload 2\n",
    "\n",
    "DATA_DIR = pl.Path(\"../tests/data\")\n",
    "NZTM = \"epsg:2193\"  # New Zealand Transverse Mercator CRS\n",
    "WGS84 = \"epsg:4326\""
   ]
  },
  {
   "cell_type": "code",
   "execution_count": null,
   "id": "acb0c95b-5848-4f26-8c44-741af34f081f",
   "metadata": {},
   "outputs": [],
   "source": [
    "nrows, ncols, R = 1000, 1000, 1 \n",
    "a0, b0 = -2, -2\n",
    "x0, y0 = ghg.double_to_cartesian(a0, b0, R)\n",
    "%time grid = ghg.make_grid(nrows, ncols, R, x0, y0, a0=a0, b0=b0)\n"
   ]
  },
  {
   "cell_type": "code",
   "execution_count": null,
   "id": "953d28a5",
   "metadata": {},
   "outputs": [],
   "source": [
    "# make_grid_points and make_grid\n",
    "\n",
    "nrows, ncols, R = 3, 4, 1 \n",
    "a0, b0 = -2, -2\n",
    "x0, y0 = ghg.double_to_cartesian(a0, b0, R)\n",
    "X, Y = ghg.make_grid_points(nrows, ncols, R, x0, y0)\n",
    "grid = ghg.make_grid(nrows, ncols, R, x0, y0, a0=a0, b0=b0)\n",
    "display(grid.head())\n",
    "print(grid[\"cell_id\"].tolist())\n",
    "\n",
    "fig, ax = plt.subplots()\n",
    "ax.scatter(X, Y, color=\"black\", alpha=0.9)\n",
    "grid.plot(ax=ax, color=\"white\", edgecolor=\"red\", alpha=0.9, aspect=\"equal\")\n",
    "# Plot labelling from https://stackoverflow.com/a/38902492\n",
    "grid.apply(\n",
    "    lambda x: ax.annotate(\n",
    "        text=x['cell_id'], \n",
    "        xy=x.geometry.centroid.coords[0], \n",
    "        ha='center', \n",
    "        color=\"red\"\n",
    "    ), \n",
    "    axis=1\n",
    ");\n",
    "\n",
    "# Areas should be correct\n",
    "assert np.allclose(grid.area, 3 * np.sqrt(3) * R**2 / 2)"
   ]
  },
  {
   "cell_type": "code",
   "execution_count": null,
   "id": "140e9b52-3ea1-4d9e-be2f-32bfefbdf852",
   "metadata": {},
   "outputs": [],
   "source": [
    "grid = ghg.make_grid(2, 3, R=1, x0=2, y0=1)\n",
    "display(grid)\n",
    "grid[\"cell_id\"].tolist()\n",
    "\n",
    "p = grid.unary_union.boundary\n",
    "display(p, p.is_ring)\n",
    "\n",
    "p1 = grid[\"geometry\"].iat[0].buffer(-0.001)\n",
    "p2 = grid[\"geometry\"].iat[1]\n",
    "q = p1.union(p2).boundary\n",
    "\n",
    "display(q, q.is_ring)\n"
   ]
  },
  {
   "cell_type": "code",
   "execution_count": null,
   "id": "58c45b5c-32e7-42ec-930f-37a5f7c67a0c",
   "metadata": {},
   "outputs": [],
   "source": [
    "# make_grid_from_bounds\n",
    "\n",
    "rect = gpd.GeoDataFrame(geometry=[sg.Polygon([(2.1, -1), (4.9, -1), (4.9, 1.9), (2.1, 1.9)])])\n",
    "R = 1\n",
    "grid = ghg.make_grid_from_bounds(*rect.total_bounds, R=R)\n",
    "display(grid.head())\n",
    "print(grid[\"cell_id\"].tolist())\n",
    "\n",
    "base = rect.plot(color='gray', aspect=\"equal\")\n",
    "grid.plot(ax=base, color=\"white\", edgecolor=\"red\", alpha=0.5)"
   ]
  },
  {
   "cell_type": "code",
   "execution_count": null,
   "id": "0f22ee6d-2d37-4985-b4ca-f2aa33154112",
   "metadata": {},
   "outputs": [],
   "source": [
    "shape = gpd.GeoDataFrame(geometry=[sg.Polygon([(1, -1), (3, 1), (0, 3)])])\n",
    "grid = ghg.make_grid_from_gdf(shape, R=1)\n",
    "\n",
    "display(grid.head())\n",
    "print(grid[\"cell_id\"].tolist())\n",
    "\n",
    "base = shape.plot(color='gray', aspect=\"equal\")\n",
    "grid.plot(ax=base, color=\"white\", edgecolor=\"red\", alpha=0.5)"
   ]
  },
  {
   "cell_type": "code",
   "execution_count": null,
   "id": "a6ef824d-55f0-41b1-976d-a82860dad62b",
   "metadata": {},
   "outputs": [],
   "source": [
    "# make_grid_from_gdf\n",
    "\n",
    "shapes = gpd.read_file(DATA_DIR / \"shapes.geojson\").to_crs(NZTM)\n",
    "R = 900\n",
    "grid = ghg.make_grid_from_gdf(shapes, R=R)\n",
    "display(grid.head())\n",
    "\n",
    "base = shapes.plot(color='gray', aspect=\"equal\")\n",
    "grid.plot(ax=base, color=\"white\", edgecolor=\"red\", alpha=0.5)\n"
   ]
  },
  {
   "cell_type": "code",
   "execution_count": null,
   "id": "129803f4",
   "metadata": {},
   "outputs": [],
   "source": [
    "# Prettier test\n",
    "\n",
    "nz = gpd.read_file(DATA_DIR / \"nz_tas.gpkg\")\n",
    "display(nz.crs)\n",
    "%time grid = ghg.make_grid_from_gdf(nz, R=10_000) # 10 km circumradius\n",
    "\n",
    "base = nz.plot(color='black', aspect=\"equal\", figsize=(10, 10))\n",
    "grid.plot(ax=base, color='white', edgecolor=\"red\", alpha=0.5)\n",
    "\n",
    "plt.axis('off')\n",
    "plt.savefig('../nz_10000m.png', bbox_inches='tight')"
   ]
  },
  {
   "cell_type": "code",
   "execution_count": null,
   "id": "ea36f48a",
   "metadata": {},
   "outputs": [],
   "source": [
    "# Speed test\n",
    "\n",
    "nz = gpd.read_file(DATA_DIR / \"nz_tas.gpkg\")\n",
    "akl = nz.loc[lambda x: x[\"ta2021_name\"] == \"Auckland\"]\n",
    "%time grid = ghg.make_grid_from_gdf(akl, R=250) \n",
    "\n",
    "base = akl.plot(color='black', figsize=(20, 20), aspect=\"equal\")\n",
    "grid.plot(ax=base, color='white', edgecolor=\"red\", alpha=0.5)\n",
    "\n"
   ]
  },
  {
   "cell_type": "code",
   "execution_count": null,
   "id": "6d512337-23fc-4034-8146-7ce4d84a4f3f",
   "metadata": {},
   "outputs": [],
   "source": []
  }
 ],
 "metadata": {
  "kernelspec": {
   "display_name": "Python 3 (ipykernel)",
   "language": "python",
   "name": "python3"
  },
  "language_info": {
   "codemirror_mode": {
    "name": "ipython",
    "version": 3
   },
   "file_extension": ".py",
   "mimetype": "text/x-python",
   "name": "python",
   "nbconvert_exporter": "python",
   "pygments_lexer": "ipython3",
   "version": "3.11.8"
  }
 },
 "nbformat": 4,
 "nbformat_minor": 5
}
